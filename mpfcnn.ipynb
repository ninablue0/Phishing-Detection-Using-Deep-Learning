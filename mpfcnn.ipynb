{
  "cells": [
    {
      "cell_type": "markdown",
      "metadata": {
        "id": "view-in-github",
        "colab_type": "text"
      },
      "source": [
        "<a href=\"https://colab.research.google.com/github/ninablue0/Phishing-Detection-Using-Deep-Learning/blob/main/mpfcnn.ipynb\" target=\"_parent\"><img src=\"https://colab.research.google.com/assets/colab-badge.svg\" alt=\"Open In Colab\"/></a>"
      ]
    },
    {
      "cell_type": "code",
      "execution_count": null,
      "metadata": {
        "collapsed": true,
        "id": "y9kpJsBrC7Yf"
      },
      "outputs": [],
      "source": [
        "import pandas as pd\n",
        "from sklearn.model_selection import train_test_split\n",
        "\n",
        "# Load the dataset\n",
        "file_path = '/content/PhiUSIIL_Phishing_URL_Dataset.csv'\n",
        "data = pd.read_csv(file_path)\n",
        "\n",
        "# Drop unnecessary columns\n",
        "columns_to_drop = ['FILENAME', 'URL', 'Domain',  'Title', 'URLLength', 'DomainTitleMatchScore', 'URLSimilarityIndex']\n",
        "data = data.drop(columns=columns_to_drop, axis=1)\n",
        "\n",
        "# Split dataset\n",
        "X = data.drop('label', axis=1)\n",
        "y = data['label']\n"
      ]
    },
    {
      "cell_type": "code",
      "execution_count": null,
      "metadata": {
        "colab": {
          "base_uri": "https://localhost:8080/"
        },
        "id": "LJ468Nh2Idx9",
        "outputId": "8ff5b98c-464c-4976-aba6-065404bca3d1"
      },
      "outputs": [
        {
          "output_type": "stream",
          "name": "stdout",
          "text": [
            "Collecting category_encoders\n",
            "  Downloading category_encoders-2.8.0-py3-none-any.whl.metadata (7.9 kB)\n",
            "Requirement already satisfied: numpy>=1.14.0 in /usr/local/lib/python3.11/dist-packages (from category_encoders) (1.26.4)\n",
            "Requirement already satisfied: pandas>=1.0.5 in /usr/local/lib/python3.11/dist-packages (from category_encoders) (2.2.2)\n",
            "Requirement already satisfied: patsy>=0.5.1 in /usr/local/lib/python3.11/dist-packages (from category_encoders) (1.0.1)\n",
            "Requirement already satisfied: scikit-learn>=1.6.0 in /usr/local/lib/python3.11/dist-packages (from category_encoders) (1.6.1)\n",
            "Requirement already satisfied: scipy>=1.0.0 in /usr/local/lib/python3.11/dist-packages (from category_encoders) (1.13.1)\n",
            "Requirement already satisfied: statsmodels>=0.9.0 in /usr/local/lib/python3.11/dist-packages (from category_encoders) (0.14.4)\n",
            "Requirement already satisfied: python-dateutil>=2.8.2 in /usr/local/lib/python3.11/dist-packages (from pandas>=1.0.5->category_encoders) (2.8.2)\n",
            "Requirement already satisfied: pytz>=2020.1 in /usr/local/lib/python3.11/dist-packages (from pandas>=1.0.5->category_encoders) (2025.1)\n",
            "Requirement already satisfied: tzdata>=2022.7 in /usr/local/lib/python3.11/dist-packages (from pandas>=1.0.5->category_encoders) (2025.1)\n",
            "Requirement already satisfied: joblib>=1.2.0 in /usr/local/lib/python3.11/dist-packages (from scikit-learn>=1.6.0->category_encoders) (1.4.2)\n",
            "Requirement already satisfied: threadpoolctl>=3.1.0 in /usr/local/lib/python3.11/dist-packages (from scikit-learn>=1.6.0->category_encoders) (3.5.0)\n",
            "Requirement already satisfied: packaging>=21.3 in /usr/local/lib/python3.11/dist-packages (from statsmodels>=0.9.0->category_encoders) (24.2)\n",
            "Requirement already satisfied: six>=1.5 in /usr/local/lib/python3.11/dist-packages (from python-dateutil>=2.8.2->pandas>=1.0.5->category_encoders) (1.17.0)\n",
            "Downloading category_encoders-2.8.0-py3-none-any.whl (85 kB)\n",
            "\u001b[?25l   \u001b[90m━━━━━━━━━━━━━━━━━━━━━━━━━━━━━━━━━━━━━━━━\u001b[0m \u001b[32m0.0/85.7 kB\u001b[0m \u001b[31m?\u001b[0m eta \u001b[36m-:--:--\u001b[0m\r\u001b[2K   \u001b[90m━━━━━━━━━━━━━━━━━━━━━━━━━━━━━━━━━━━━━━━━\u001b[0m \u001b[32m85.7/85.7 kB\u001b[0m \u001b[31m2.3 MB/s\u001b[0m eta \u001b[36m0:00:00\u001b[0m\n",
            "\u001b[?25hInstalling collected packages: category_encoders\n",
            "Successfully installed category_encoders-2.8.0\n"
          ]
        }
      ],
      "source": [
        "!pip install category_encoders"
      ]
    },
    {
      "cell_type": "code",
      "execution_count": null,
      "metadata": {
        "id": "obWZeO_5DPjW"
      },
      "outputs": [],
      "source": [
        "from category_encoders import TargetEncoder\n",
        "from sklearn.preprocessing import MinMaxScaler\n",
        "from imblearn.over_sampling import SMOTE\n",
        "\n",
        "# Target Encoding on the 'TLD' column\n",
        "categorical_cols = ['TLD']\n",
        "target_encoder = TargetEncoder(cols=categorical_cols)\n",
        "X_encoded = target_encoder.fit_transform(X, y)\n",
        "\n",
        "# MinMaxScaler for numerical features\n",
        "scaler = MinMaxScaler()\n",
        "X_scaled = scaler.fit_transform(X_encoded)\n",
        "\n",
        "# SMOTE for handling class imbalance\n",
        "smote = SMOTE(random_state=42)\n",
        "X_resampled, y_resampled = smote.fit_resample(X_scaled, y)\n",
        "\n",
        "# Split\n",
        "X_train, X_val, y_train, y_val = train_test_split(X_resampled, y_resampled, test_size=0.2, random_state=42)\n"
      ]
    },
    {
      "cell_type": "code",
      "execution_count": null,
      "metadata": {
        "colab": {
          "base_uri": "https://localhost:8080/"
        },
        "id": "Rtdv3woVMy4x",
        "outputId": "562e0384-b3e7-44f5-acad-cb8394edf004"
      },
      "outputs": [
        {
          "output_type": "stream",
          "name": "stdout",
          "text": [
            "Epoch 1/20\n",
            "\u001b[1m6743/6743\u001b[0m \u001b[32m━━━━━━━━━━━━━━━━━━━━\u001b[0m\u001b[37m\u001b[0m \u001b[1m18s\u001b[0m 2ms/step - accuracy: 0.7538 - loss: 0.8900 - val_accuracy: 0.9871 - val_loss: 0.1804\n",
            "Epoch 2/20\n",
            "\u001b[1m6743/6743\u001b[0m \u001b[32m━━━━━━━━━━━━━━━━━━━━\u001b[0m\u001b[37m\u001b[0m \u001b[1m21s\u001b[0m 2ms/step - accuracy: 0.9800 - loss: 0.1903 - val_accuracy: 0.9921 - val_loss: 0.0924\n",
            "Epoch 3/20\n",
            "\u001b[1m6743/6743\u001b[0m \u001b[32m━━━━━━━━━━━━━━━━━━━━\u001b[0m\u001b[37m\u001b[0m \u001b[1m16s\u001b[0m 2ms/step - accuracy: 0.9856 - loss: 0.1177 - val_accuracy: 0.9945 - val_loss: 0.0708\n",
            "Epoch 4/20\n",
            "\u001b[1m6743/6743\u001b[0m \u001b[32m━━━━━━━━━━━━━━━━━━━━\u001b[0m\u001b[37m\u001b[0m \u001b[1m16s\u001b[0m 2ms/step - accuracy: 0.9884 - loss: 0.0955 - val_accuracy: 0.9953 - val_loss: 0.0625\n",
            "Epoch 5/20\n",
            "\u001b[1m6743/6743\u001b[0m \u001b[32m━━━━━━━━━━━━━━━━━━━━\u001b[0m\u001b[37m\u001b[0m \u001b[1m16s\u001b[0m 2ms/step - accuracy: 0.9899 - loss: 0.0837 - val_accuracy: 0.9959 - val_loss: 0.0564\n",
            "Epoch 6/20\n",
            "\u001b[1m6743/6743\u001b[0m \u001b[32m━━━━━━━━━━━━━━━━━━━━\u001b[0m\u001b[37m\u001b[0m \u001b[1m16s\u001b[0m 2ms/step - accuracy: 0.9906 - loss: 0.0774 - val_accuracy: 0.9961 - val_loss: 0.0531\n",
            "Epoch 7/20\n",
            "\u001b[1m6743/6743\u001b[0m \u001b[32m━━━━━━━━━━━━━━━━━━━━\u001b[0m\u001b[37m\u001b[0m \u001b[1m16s\u001b[0m 2ms/step - accuracy: 0.9913 - loss: 0.0736 - val_accuracy: 0.9965 - val_loss: 0.0489\n",
            "Epoch 8/20\n",
            "\u001b[1m6743/6743\u001b[0m \u001b[32m━━━━━━━━━━━━━━━━━━━━\u001b[0m\u001b[37m\u001b[0m \u001b[1m22s\u001b[0m 3ms/step - accuracy: 0.9913 - loss: 0.0698 - val_accuracy: 0.9965 - val_loss: 0.0471\n",
            "Epoch 9/20\n",
            "\u001b[1m6743/6743\u001b[0m \u001b[32m━━━━━━━━━━━━━━━━━━━━\u001b[0m\u001b[37m\u001b[0m \u001b[1m19s\u001b[0m 2ms/step - accuracy: 0.9917 - loss: 0.0682 - val_accuracy: 0.9967 - val_loss: 0.0461\n",
            "Epoch 10/20\n",
            "\u001b[1m6743/6743\u001b[0m \u001b[32m━━━━━━━━━━━━━━━━━━━━\u001b[0m\u001b[37m\u001b[0m \u001b[1m15s\u001b[0m 2ms/step - accuracy: 0.9922 - loss: 0.0643 - val_accuracy: 0.9969 - val_loss: 0.0440\n",
            "Epoch 11/20\n",
            "\u001b[1m6743/6743\u001b[0m \u001b[32m━━━━━━━━━━━━━━━━━━━━\u001b[0m\u001b[37m\u001b[0m \u001b[1m16s\u001b[0m 2ms/step - accuracy: 0.9929 - loss: 0.0617 - val_accuracy: 0.9969 - val_loss: 0.0428\n",
            "Epoch 12/20\n",
            "\u001b[1m6743/6743\u001b[0m \u001b[32m━━━━━━━━━━━━━━━━━━━━\u001b[0m\u001b[37m\u001b[0m \u001b[1m17s\u001b[0m 3ms/step - accuracy: 0.9928 - loss: 0.0610 - val_accuracy: 0.9968 - val_loss: 0.0415\n",
            "Epoch 13/20\n",
            "\u001b[1m6743/6743\u001b[0m \u001b[32m━━━━━━━━━━━━━━━━━━━━\u001b[0m\u001b[37m\u001b[0m \u001b[1m20s\u001b[0m 2ms/step - accuracy: 0.9925 - loss: 0.0598 - val_accuracy: 0.9970 - val_loss: 0.0407\n",
            "Epoch 14/20\n",
            "\u001b[1m6743/6743\u001b[0m \u001b[32m━━━━━━━━━━━━━━━━━━━━\u001b[0m\u001b[37m\u001b[0m \u001b[1m20s\u001b[0m 2ms/step - accuracy: 0.9927 - loss: 0.0584 - val_accuracy: 0.9973 - val_loss: 0.0396\n",
            "Epoch 15/20\n",
            "\u001b[1m6743/6743\u001b[0m \u001b[32m━━━━━━━━━━━━━━━━━━━━\u001b[0m\u001b[37m\u001b[0m \u001b[1m20s\u001b[0m 2ms/step - accuracy: 0.9933 - loss: 0.0566 - val_accuracy: 0.9971 - val_loss: 0.0395\n",
            "Epoch 16/20\n",
            "\u001b[1m6743/6743\u001b[0m \u001b[32m━━━━━━━━━━━━━━━━━━━━\u001b[0m\u001b[37m\u001b[0m \u001b[1m21s\u001b[0m 2ms/step - accuracy: 0.9931 - loss: 0.0555 - val_accuracy: 0.9969 - val_loss: 0.0391\n",
            "Epoch 17/20\n",
            "\u001b[1m6743/6743\u001b[0m \u001b[32m━━━━━━━━━━━━━━━━━━━━\u001b[0m\u001b[37m\u001b[0m \u001b[1m16s\u001b[0m 2ms/step - accuracy: 0.9933 - loss: 0.0547 - val_accuracy: 0.9972 - val_loss: 0.0374\n",
            "Epoch 18/20\n",
            "\u001b[1m6743/6743\u001b[0m \u001b[32m━━━━━━━━━━━━━━━━━━━━\u001b[0m\u001b[37m\u001b[0m \u001b[1m17s\u001b[0m 2ms/step - accuracy: 0.9933 - loss: 0.0539 - val_accuracy: 0.9972 - val_loss: 0.0374\n",
            "Epoch 19/20\n",
            "\u001b[1m6743/6743\u001b[0m \u001b[32m━━━━━━━━━━━━━━━━━━━━\u001b[0m\u001b[37m\u001b[0m \u001b[1m16s\u001b[0m 2ms/step - accuracy: 0.9937 - loss: 0.0521 - val_accuracy: 0.9974 - val_loss: 0.0355\n",
            "Epoch 20/20\n",
            "\u001b[1m6743/6743\u001b[0m \u001b[32m━━━━━━━━━━━━━━━━━━━━\u001b[0m\u001b[37m\u001b[0m \u001b[1m21s\u001b[0m 2ms/step - accuracy: 0.9940 - loss: 0.0519 - val_accuracy: 0.9972 - val_loss: 0.0358\n"
          ]
        }
      ],
      "source": [
        "import tensorflow as tf\n",
        "from tensorflow.keras.models import Sequential\n",
        "from tensorflow.keras.layers import Dense, Dropout\n",
        "from tensorflow.keras.callbacks import EarlyStopping\n",
        "from tensorflow.keras.regularizers import l2\n",
        "from tensorflow.keras import Input\n",
        "\n",
        "# Build the FCNN model\n",
        "model_fcnn = Sequential()\n",
        "\n",
        "\n",
        "model_fcnn.add(Input(shape=(X_train.shape[1],)))\n",
        "\n",
        "model_fcnn.add(Dense(128, activation='relu', kernel_regularizer=l2(0.002)))\n",
        "model_fcnn.add(Dropout(0.7))\n",
        "\n",
        "# Hidden layer\n",
        "model_fcnn.add(Dense(64, activation='relu', kernel_regularizer=l2(0.004)))\n",
        "model_fcnn.add(Dropout(0.7))\n",
        "\n",
        "# hidden layer\n",
        "model_fcnn.add(Dense(32, activation='relu', kernel_regularizer=l2(0.004)))\n",
        "model_fcnn.add(Dropout(0.7))\n",
        "\n",
        "# Output Layer binary classification\n",
        "model_fcnn.add(Dense(1, activation='sigmoid'))\n",
        "\n",
        "optimizer = tf.keras.optimizers.Adam(learning_rate=0.0001)\n",
        "\n",
        "model_fcnn.compile(optimizer=optimizer, loss='binary_crossentropy', metrics=['accuracy'])\n",
        "\n",
        "early_stopping_fcnn = EarlyStopping(monitor='val_loss', patience=2, restore_best_weights=True)\n",
        "\n",
        "# Train the model\n",
        "history_fcnn = model_fcnn.fit(X_train, y_train,\n",
        "                              validation_data=(X_val, y_val),\n",
        "                              epochs=20,\n",
        "                              batch_size=32,\n",
        "                              callbacks=[early_stopping_fcnn])\n"
      ]
    },
    {
      "cell_type": "code",
      "execution_count": null,
      "metadata": {
        "colab": {
          "base_uri": "https://localhost:8080/",
          "height": 476
        },
        "id": "nDE1shy5ZhZp",
        "outputId": "dfff62a4-4668-4c25-cb44-855ffb79204c"
      },
      "outputs": [
        {
          "data": {
            "image/png": "[encoded data removed]",
            "text/plain": [
              "<Figure size 1200x500 with 2 Axes>"
            ]
          },
          "metadata": {},
          "output_type": "display_data"
        }
      ],
      "source": [
        "import matplotlib.pyplot as plt\n",
        "\n",
        "\n",
        "plt.figure(figsize=(12, 5))\n",
        "\n",
        "# Plot accuracy\n",
        "plt.subplot(1, 2, 1)\n",
        "plt.plot(history_fcnn.history['accuracy'], label='Train Accuracy')\n",
        "plt.plot(history_fcnn.history['val_accuracy'], label='Validation Accuracy')\n",
        "plt.title('Model Accuracy')\n",
        "plt.xlabel('Epoch')\n",
        "plt.ylabel('Accuracy')\n",
        "plt.legend(loc='upper left')\n",
        "\n",
        "# Plot loss\n",
        "plt.subplot(1, 2, 2)\n",
        "plt.plot(history_fcnn.history['loss'], label='Train Loss')\n",
        "plt.plot(history_fcnn.history['val_loss'], label='Validation Loss')\n",
        "plt.title('Model Loss')\n",
        "plt.xlabel('Epoch')\n",
        "plt.ylabel('Loss')\n",
        "plt.legend(loc='upper right')\n",
        "\n",
        "plt.tight_layout()\n",
        "plt.show()\n"
      ]
    },
    {
      "cell_type": "code",
      "execution_count": null,
      "metadata": {
        "id": "2vR-6_PDZabb",
        "colab": {
          "base_uri": "https://localhost:8080/"
        },
        "outputId": "a1ee557f-7a35-4021-f2b1-c81469e2fe88"
      },
      "outputs": [
        {
          "output_type": "stream",
          "name": "stderr",
          "text": [
            "WARNING:absl:You are saving your model as an HDF5 file via `model.save()` or `keras.saving.save_model(model)`. This file format is considered legacy. We recommend using instead the native Keras format, e.g. `model.save('my_model.keras')` or `keras.saving.save_model(model, 'my_model.keras')`. \n"
          ]
        }
      ],
      "source": [
        "# Save the trained model\n",
        "model_fcnn.save(\"phishing_detection_model.h5\")\n"
      ]
    },
    {
      "cell_type": "markdown",
      "source": [
        "Validation"
      ],
      "metadata": {
        "id": "-7cTbHGJOUJC"
      }
    },
    {
      "cell_type": "code",
      "source": [
        "# Load the dataset\n",
        "file_path = '/content/phishing_datasetvaliiiii.csv'\n",
        "data = pd.read_csv(file_path)\n",
        "\n",
        "# Dropping the same columns\n",
        "columns_to_drop = ['FILENAME', 'URL', 'Domain',  'Title', 'URLLength', 'DomainTitleMatchScore', 'URLSimilarityIndex']\n",
        "data = data.drop(columns=columns_to_drop, axis=1)\n",
        "\n",
        "# Split dataset\n",
        "X = data.drop('label', axis=1)\n",
        "y = data['label']"
      ],
      "metadata": {
        "id": "piu_SHa5N5V_"
      },
      "execution_count": null,
      "outputs": []
    },
    {
      "cell_type": "code",
      "source": [
        "from category_encoders import TargetEncoder\n",
        "from sklearn.preprocessing import MinMaxScaler\n",
        "from imblearn.over_sampling import SMOTE\n",
        "\n",
        "# Target Encoding on the 'TLD' column\n",
        "categorical_cols = ['TLD']\n",
        "target_encoder = TargetEncoder(cols=categorical_cols)\n",
        "X_encoded = target_encoder.fit_transform(X, y)\n",
        "\n",
        "# MinMaxScaler for numerical features\n",
        "scaler = MinMaxScaler()\n",
        "X_scaled = scaler.fit_transform(X_encoded)\n",
        "\n",
        "# SMOTE for handling class imbalance\n",
        "#smote = SMOTE(random_state=42)\n",
        "#X_resampled, y_resampled = smote.fit_resample(X_scaled, y)\n",
        "\n",
        "# No need for smote since there is no class imbalance on validation dataset\n",
        "\n"
      ],
      "metadata": {
        "id": "1BeHMrDROaNy"
      },
      "execution_count": null,
      "outputs": []
    },
    {
      "cell_type": "code",
      "source": [
        "from tensorflow.keras.models import load_model\n",
        "\n",
        "# Load the trained model\n",
        "model_fcnn = load_model(\"phishing_detection_model.h5\")\n"
      ],
      "metadata": {
        "colab": {
          "base_uri": "https://localhost:8080/"
        },
        "id": "wRntOXLVOdMK",
        "outputId": "a4226a1d-5328-4191-8e27-5f6ed977d7fe"
      },
      "execution_count": null,
      "outputs": [
        {
          "output_type": "stream",
          "name": "stderr",
          "text": [
            "WARNING:absl:Compiled the loaded model, but the compiled metrics have yet to be built. `model.compile_metrics` will be empty until you train or evaluate the model.\n"
          ]
        }
      ]
    },
    {
      "cell_type": "code",
      "source": [
        "# Predict using the trained model on validation dataset\n",
        "y_pred = model_fcnn.predict(X_encoded)\n",
        "\n",
        "# Convert probabilities to binary labels (0 or 1) based on a threshold of 0.5\n",
        "y_pred_labels = (y_pred > 0.5).astype(int)\n",
        "\n",
        "# Print predicted labels\n",
        "print(y_pred_labels)"
      ],
      "metadata": {
        "colab": {
          "base_uri": "https://localhost:8080/"
        },
        "id": "xzhpUqOXOngs",
        "outputId": "083fe740-f3ce-4a7d-8e8a-4453aea332a1"
      },
      "execution_count": null,
      "outputs": [
        {
          "output_type": "stream",
          "name": "stderr",
          "text": [
            "WARNING:tensorflow:5 out of the last 6 calls to <function TensorFlowTrainer.make_predict_function.<locals>.one_step_on_data_distributed at 0x795f37a64540> triggered tf.function retracing. Tracing is expensive and the excessive number of tracings could be due to (1) creating @tf.function repeatedly in a loop, (2) passing tensors with different shapes, (3) passing Python objects instead of tensors. For (1), please define your @tf.function outside of the loop. For (2), @tf.function has reduce_retracing=True option that can avoid unnecessary retracing. For (3), please refer to https://www.tensorflow.org/guide/function#controlling_retracing and https://www.tensorflow.org/api_docs/python/tf/function for  more details.\n"
          ]
        },
        {
          "output_type": "stream",
          "name": "stdout",
          "text": [
            "\u001b[1m1/1\u001b[0m \u001b[32m━━━━━━━━━━━━━━━━━━━━\u001b[0m\u001b[37m\u001b[0m \u001b[1m0s\u001b[0m 97ms/step\n",
            "[[1]\n",
            " [1]\n",
            " [1]\n",
            " [1]\n",
            " [1]\n",
            " [1]\n",
            " [0]\n",
            " [1]\n",
            " [0]\n",
            " [1]\n",
            " [0]\n",
            " [0]\n",
            " [0]]\n"
          ]
        }
      ]
    },
    {
      "cell_type": "code",
      "source": [
        "from sklearn.metrics import accuracy_score, classification_report\n",
        "\n",
        "# Accuracy\n",
        "accuracy = accuracy_score(y, y_pred_labels)\n",
        "report = classification_report(y, y_pred_labels)\n",
        "\n",
        "print(f\"Accuracy: {accuracy}\")\n",
        "print(report)\n"
      ],
      "metadata": {
        "colab": {
          "base_uri": "https://localhost:8080/"
        },
        "id": "iIbVMOdCOvIQ",
        "outputId": "90908bb9-e513-4b91-9b4e-9fedaa663f0c"
      },
      "execution_count": null,
      "outputs": [
        {
          "output_type": "stream",
          "name": "stdout",
          "text": [
            "Accuracy: 0.7692307692307693\n",
            "              precision    recall  f1-score   support\n",
            "\n",
            "           0       0.80      0.67      0.73         6\n",
            "           1       0.75      0.86      0.80         7\n",
            "\n",
            "    accuracy                           0.77        13\n",
            "   macro avg       0.78      0.76      0.76        13\n",
            "weighted avg       0.77      0.77      0.77        13\n",
            "\n"
          ]
        }
      ]
    },
    {
      "cell_type": "code",
      "source": [],
      "metadata": {
        "id": "-_z8-pgiSe9T"
      },
      "execution_count": null,
      "outputs": []
    }
  ],
  "metadata": {
    "colab": {
      "provenance": [],
      "include_colab_link": true
    },
    "kernelspec": {
      "display_name": "Python 3",
      "name": "python3"
    },
    "language_info": {
      "name": "python"
    }
  },
  "nbformat": 4,
  "nbformat_minor": 0
}